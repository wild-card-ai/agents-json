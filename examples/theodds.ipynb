{
 "cells": [
  {
   "cell_type": "markdown",
   "metadata": {},
   "source": [
    "# Use Stripe with agents.json\n",
    "This notebook demonstrates how to use agents.json to interact with the Stripe API. This simple example shows loading the agents.json file and using it to execute Stripe tasks.\n"
   ]
  },
  {
   "cell_type": "code",
   "execution_count": 1,
   "metadata": {},
   "outputs": [
    {
     "name": "stdout",
     "output_type": "stream",
     "text": [
      "Requirement already satisfied: agentsjson in /Users/yagnyapatel/Projects/Wildcard/agents-json/.venv/lib/python3.13/site-packages (0.1.1)\n",
      "Requirement already satisfied: google-api-python-client<3.0.0,>=2.0.0 in /Users/yagnyapatel/Projects/Wildcard/agents-json/.venv/lib/python3.13/site-packages (from agentsjson) (2.160.0)\n",
      "Requirement already satisfied: pydantic<3.0.0,>=2.0.0 in /Users/yagnyapatel/Projects/Wildcard/agents-json/.venv/lib/python3.13/site-packages (from agentsjson) (2.10.6)\n",
      "Requirement already satisfied: pympler<2.0,>=1.1 in /Users/yagnyapatel/Projects/Wildcard/agents-json/.venv/lib/python3.13/site-packages (from agentsjson) (1.1)\n",
      "Requirement already satisfied: python-benedict<0.34.0,>=0.33.0 in /Users/yagnyapatel/Projects/Wildcard/agents-json/.venv/lib/python3.13/site-packages (from agentsjson) (0.33.2)\n",
      "Requirement already satisfied: pyyaml<7.0.0,>=6.0.0 in /Users/yagnyapatel/Projects/Wildcard/agents-json/.venv/lib/python3.13/site-packages (from agentsjson) (6.0.2)\n",
      "Requirement already satisfied: requests<3.0.0,>=2.0.0 in /Users/yagnyapatel/Projects/Wildcard/agents-json/.venv/lib/python3.13/site-packages (from agentsjson) (2.32.2)\n",
      "Requirement already satisfied: six<2.0.0,>=1.16.0 in /Users/yagnyapatel/Projects/Wildcard/agents-json/.venv/lib/python3.13/site-packages (from agentsjson) (1.17.0)\n",
      "Requirement already satisfied: stripe==7.11.0 in /Users/yagnyapatel/Projects/Wildcard/agents-json/.venv/lib/python3.13/site-packages (from agentsjson) (7.11.0)\n",
      "Requirement already satisfied: tweepy<5.0.0,>=4.0.0 in /Users/yagnyapatel/Projects/Wildcard/agents-json/.venv/lib/python3.13/site-packages (from agentsjson) (4.15.0)\n",
      "Requirement already satisfied: typing-extensions<5.0.0,>=4.0.0 in /Users/yagnyapatel/Projects/Wildcard/agents-json/.venv/lib/python3.13/site-packages (from agentsjson) (4.12.2)\n",
      "Requirement already satisfied: httplib2<1.dev0,>=0.19.0 in /Users/yagnyapatel/Projects/Wildcard/agents-json/.venv/lib/python3.13/site-packages (from google-api-python-client<3.0.0,>=2.0.0->agentsjson) (0.22.0)\n",
      "Requirement already satisfied: google-auth!=2.24.0,!=2.25.0,<3.0.0.dev0,>=1.32.0 in /Users/yagnyapatel/Projects/Wildcard/agents-json/.venv/lib/python3.13/site-packages (from google-api-python-client<3.0.0,>=2.0.0->agentsjson) (2.38.0)\n",
      "Requirement already satisfied: google-auth-httplib2<1.0.0,>=0.2.0 in /Users/yagnyapatel/Projects/Wildcard/agents-json/.venv/lib/python3.13/site-packages (from google-api-python-client<3.0.0,>=2.0.0->agentsjson) (0.2.0)\n",
      "Requirement already satisfied: google-api-core!=2.0.*,!=2.1.*,!=2.2.*,!=2.3.0,<3.0.0.dev0,>=1.31.5 in /Users/yagnyapatel/Projects/Wildcard/agents-json/.venv/lib/python3.13/site-packages (from google-api-python-client<3.0.0,>=2.0.0->agentsjson) (2.24.1)\n",
      "Requirement already satisfied: uritemplate<5,>=3.0.1 in /Users/yagnyapatel/Projects/Wildcard/agents-json/.venv/lib/python3.13/site-packages (from google-api-python-client<3.0.0,>=2.0.0->agentsjson) (4.1.1)\n",
      "Requirement already satisfied: annotated-types>=0.6.0 in /Users/yagnyapatel/Projects/Wildcard/agents-json/.venv/lib/python3.13/site-packages (from pydantic<3.0.0,>=2.0.0->agentsjson) (0.7.0)\n",
      "Requirement already satisfied: pydantic-core==2.27.2 in /Users/yagnyapatel/Projects/Wildcard/agents-json/.venv/lib/python3.13/site-packages (from pydantic<3.0.0,>=2.0.0->agentsjson) (2.27.2)\n",
      "Requirement already satisfied: python-fsutil<1.0.0,>=0.9.3 in /Users/yagnyapatel/Projects/Wildcard/agents-json/.venv/lib/python3.13/site-packages (from python-benedict<0.34.0,>=0.33.0->agentsjson) (0.14.1)\n",
      "Requirement already satisfied: python-slugify<9.0.0,>=7.0.0 in /Users/yagnyapatel/Projects/Wildcard/agents-json/.venv/lib/python3.13/site-packages (from python-benedict<0.34.0,>=0.33.0->agentsjson) (8.0.4)\n",
      "Requirement already satisfied: charset-normalizer<4,>=2 in /Users/yagnyapatel/Projects/Wildcard/agents-json/.venv/lib/python3.13/site-packages (from requests<3.0.0,>=2.0.0->agentsjson) (3.4.1)\n",
      "Requirement already satisfied: idna<4,>=2.5 in /Users/yagnyapatel/Projects/Wildcard/agents-json/.venv/lib/python3.13/site-packages (from requests<3.0.0,>=2.0.0->agentsjson) (3.10)\n",
      "Requirement already satisfied: urllib3<3,>=1.21.1 in /Users/yagnyapatel/Projects/Wildcard/agents-json/.venv/lib/python3.13/site-packages (from requests<3.0.0,>=2.0.0->agentsjson) (2.3.0)\n",
      "Requirement already satisfied: certifi>=2017.4.17 in /Users/yagnyapatel/Projects/Wildcard/agents-json/.venv/lib/python3.13/site-packages (from requests<3.0.0,>=2.0.0->agentsjson) (2024.12.14)\n",
      "Requirement already satisfied: oauthlib<4,>=3.2.0 in /Users/yagnyapatel/Projects/Wildcard/agents-json/.venv/lib/python3.13/site-packages (from tweepy<5.0.0,>=4.0.0->agentsjson) (3.2.2)\n",
      "Requirement already satisfied: requests-oauthlib<3,>=1.2.0 in /Users/yagnyapatel/Projects/Wildcard/agents-json/.venv/lib/python3.13/site-packages (from tweepy<5.0.0,>=4.0.0->agentsjson) (2.0.0)\n",
      "Requirement already satisfied: googleapis-common-protos<2.0.dev0,>=1.56.2 in /Users/yagnyapatel/Projects/Wildcard/agents-json/.venv/lib/python3.13/site-packages (from google-api-core!=2.0.*,!=2.1.*,!=2.2.*,!=2.3.0,<3.0.0.dev0,>=1.31.5->google-api-python-client<3.0.0,>=2.0.0->agentsjson) (1.66.0)\n",
      "Requirement already satisfied: protobuf!=3.20.0,!=3.20.1,!=4.21.0,!=4.21.1,!=4.21.2,!=4.21.3,!=4.21.4,!=4.21.5,<6.0.0.dev0,>=3.19.5 in /Users/yagnyapatel/Projects/Wildcard/agents-json/.venv/lib/python3.13/site-packages (from google-api-core!=2.0.*,!=2.1.*,!=2.2.*,!=2.3.0,<3.0.0.dev0,>=1.31.5->google-api-python-client<3.0.0,>=2.0.0->agentsjson) (5.29.3)\n",
      "Requirement already satisfied: proto-plus<2.0.0dev,>=1.22.3 in /Users/yagnyapatel/Projects/Wildcard/agents-json/.venv/lib/python3.13/site-packages (from google-api-core!=2.0.*,!=2.1.*,!=2.2.*,!=2.3.0,<3.0.0.dev0,>=1.31.5->google-api-python-client<3.0.0,>=2.0.0->agentsjson) (1.26.0)\n",
      "Requirement already satisfied: cachetools<6.0,>=2.0.0 in /Users/yagnyapatel/Projects/Wildcard/agents-json/.venv/lib/python3.13/site-packages (from google-auth!=2.24.0,!=2.25.0,<3.0.0.dev0,>=1.32.0->google-api-python-client<3.0.0,>=2.0.0->agentsjson) (5.5.1)\n",
      "Requirement already satisfied: pyasn1-modules>=0.2.1 in /Users/yagnyapatel/Projects/Wildcard/agents-json/.venv/lib/python3.13/site-packages (from google-auth!=2.24.0,!=2.25.0,<3.0.0.dev0,>=1.32.0->google-api-python-client<3.0.0,>=2.0.0->agentsjson) (0.4.1)\n",
      "Requirement already satisfied: rsa<5,>=3.1.4 in /Users/yagnyapatel/Projects/Wildcard/agents-json/.venv/lib/python3.13/site-packages (from google-auth!=2.24.0,!=2.25.0,<3.0.0.dev0,>=1.32.0->google-api-python-client<3.0.0,>=2.0.0->agentsjson) (4.9)\n",
      "Requirement already satisfied: pyparsing!=3.0.0,!=3.0.1,!=3.0.2,!=3.0.3,<4,>=2.4.2 in /Users/yagnyapatel/Projects/Wildcard/agents-json/.venv/lib/python3.13/site-packages (from httplib2<1.dev0,>=0.19.0->google-api-python-client<3.0.0,>=2.0.0->agentsjson) (3.2.1)\n",
      "Requirement already satisfied: text-unidecode>=1.3 in /Users/yagnyapatel/Projects/Wildcard/agents-json/.venv/lib/python3.13/site-packages (from python-slugify<9.0.0,>=7.0.0->python-benedict<0.34.0,>=0.33.0->agentsjson) (1.3)\n",
      "Requirement already satisfied: pyasn1<0.7.0,>=0.4.6 in /Users/yagnyapatel/Projects/Wildcard/agents-json/.venv/lib/python3.13/site-packages (from pyasn1-modules>=0.2.1->google-auth!=2.24.0,!=2.25.0,<3.0.0.dev0,>=1.32.0->google-api-python-client<3.0.0,>=2.0.0->agentsjson) (0.6.1)\n",
      "\n",
      "\u001b[1m[\u001b[0m\u001b[34;49mnotice\u001b[0m\u001b[1;39;49m]\u001b[0m\u001b[39;49m A new release of pip is available: \u001b[0m\u001b[31;49m24.3.1\u001b[0m\u001b[39;49m -> \u001b[0m\u001b[32;49m25.0.1\u001b[0m\n",
      "\u001b[1m[\u001b[0m\u001b[34;49mnotice\u001b[0m\u001b[1;39;49m]\u001b[0m\u001b[39;49m To update, run: \u001b[0m\u001b[32;49mpip install --upgrade pip\u001b[0m\n",
      "Note: you may need to restart the kernel to use updated packages.\n",
      "Requirement already satisfied: openai in /Users/yagnyapatel/Projects/Wildcard/agents-json/.venv/lib/python3.13/site-packages (1.61.0)\n",
      "Requirement already satisfied: anyio<5,>=3.5.0 in /Users/yagnyapatel/Projects/Wildcard/agents-json/.venv/lib/python3.13/site-packages (from openai) (4.8.0)\n",
      "Requirement already satisfied: distro<2,>=1.7.0 in /Users/yagnyapatel/Projects/Wildcard/agents-json/.venv/lib/python3.13/site-packages (from openai) (1.9.0)\n",
      "Requirement already satisfied: httpx<1,>=0.23.0 in /Users/yagnyapatel/Projects/Wildcard/agents-json/.venv/lib/python3.13/site-packages (from openai) (0.28.1)\n",
      "Requirement already satisfied: jiter<1,>=0.4.0 in /Users/yagnyapatel/Projects/Wildcard/agents-json/.venv/lib/python3.13/site-packages (from openai) (0.8.2)\n",
      "Requirement already satisfied: pydantic<3,>=1.9.0 in /Users/yagnyapatel/Projects/Wildcard/agents-json/.venv/lib/python3.13/site-packages (from openai) (2.10.6)\n",
      "Requirement already satisfied: sniffio in /Users/yagnyapatel/Projects/Wildcard/agents-json/.venv/lib/python3.13/site-packages (from openai) (1.3.1)\n",
      "Requirement already satisfied: tqdm>4 in /Users/yagnyapatel/Projects/Wildcard/agents-json/.venv/lib/python3.13/site-packages (from openai) (4.67.1)\n",
      "Requirement already satisfied: typing-extensions<5,>=4.11 in /Users/yagnyapatel/Projects/Wildcard/agents-json/.venv/lib/python3.13/site-packages (from openai) (4.12.2)\n",
      "Requirement already satisfied: idna>=2.8 in /Users/yagnyapatel/Projects/Wildcard/agents-json/.venv/lib/python3.13/site-packages (from anyio<5,>=3.5.0->openai) (3.10)\n",
      "Requirement already satisfied: certifi in /Users/yagnyapatel/Projects/Wildcard/agents-json/.venv/lib/python3.13/site-packages (from httpx<1,>=0.23.0->openai) (2024.12.14)\n",
      "Requirement already satisfied: httpcore==1.* in /Users/yagnyapatel/Projects/Wildcard/agents-json/.venv/lib/python3.13/site-packages (from httpx<1,>=0.23.0->openai) (1.0.7)\n",
      "Requirement already satisfied: h11<0.15,>=0.13 in /Users/yagnyapatel/Projects/Wildcard/agents-json/.venv/lib/python3.13/site-packages (from httpcore==1.*->httpx<1,>=0.23.0->openai) (0.14.0)\n",
      "Requirement already satisfied: annotated-types>=0.6.0 in /Users/yagnyapatel/Projects/Wildcard/agents-json/.venv/lib/python3.13/site-packages (from pydantic<3,>=1.9.0->openai) (0.7.0)\n",
      "Requirement already satisfied: pydantic-core==2.27.2 in /Users/yagnyapatel/Projects/Wildcard/agents-json/.venv/lib/python3.13/site-packages (from pydantic<3,>=1.9.0->openai) (2.27.2)\n",
      "\n",
      "\u001b[1m[\u001b[0m\u001b[34;49mnotice\u001b[0m\u001b[1;39;49m]\u001b[0m\u001b[39;49m A new release of pip is available: \u001b[0m\u001b[31;49m24.3.1\u001b[0m\u001b[39;49m -> \u001b[0m\u001b[32;49m25.0.1\u001b[0m\n",
      "\u001b[1m[\u001b[0m\u001b[34;49mnotice\u001b[0m\u001b[1;39;49m]\u001b[0m\u001b[39;49m To update, run: \u001b[0m\u001b[32;49mpip install --upgrade pip\u001b[0m\n",
      "Note: you may need to restart the kernel to use updated packages.\n"
     ]
    }
   ],
   "source": [
    "%pip install agentsjson\n",
    "%pip install openai"
   ]
  },
  {
   "cell_type": "markdown",
   "metadata": {},
   "source": [
    "### Setup API keys and references to `agents.json` files"
   ]
  },
  {
   "cell_type": "code",
   "execution_count": 2,
   "metadata": {},
   "outputs": [],
   "source": [
    "THEODDS_API_KEY=\"<your-theodds-api-key>\"\n",
    "OPENAI_API_KEY=\"<your-openai-api-key>\" \n",
    "agents_json_url = \"https://gist.githubusercontent.com/yagnyaPatel/1df27ef8d5a853f7bf7372e4fb761a75/raw/1d9ca63406113aa1e8ac2d800e14a71c895b54e5/theodds.agents.json\""
   ]
  },
  {
   "cell_type": "markdown",
   "metadata": {},
   "source": [
    "### Load the agents.json file"
   ]
  },
  {
   "cell_type": "code",
   "execution_count": 3,
   "metadata": {},
   "outputs": [],
   "source": [
    "from agentsjson.core.models import Flow\n",
    "from agentsjson.core.models.bundle import Bundle\n",
    "import agentsjson.core as core\n",
    "\n",
    "# load the agents.json file\n",
    "data: Bundle = core.load_agents_json(agents_json_url)\n",
    "flows = data.agentsJson.flows"
   ]
  },
  {
   "cell_type": "markdown",
   "metadata": {},
   "source": [
    "### Define the Agent"
   ]
  },
  {
   "cell_type": "code",
   "execution_count": 4,
   "metadata": {},
   "outputs": [],
   "source": [
    "query = \"What the score for the last Lakers game\""
   ]
  },
  {
   "cell_type": "code",
   "execution_count": 5,
   "metadata": {},
   "outputs": [],
   "source": [
    "from agentsjson.core import ToolFormat\n",
    "\n",
    "# Format the flows data for the prompt\n",
    "flows_context = core.flows_prompt(flows)\n",
    "\n",
    "# Create the system prompt\n",
    "system_prompt = f\"\"\"You are an AI assistant that helps users interact with the Stripe API.\n",
    "You have access to the following API flows:\n",
    "\n",
    "{flows_context}\n",
    "\n",
    "Analyze the user's request and use the appropriate API flows to accomplish the task.\n",
    "You must give your arguments for the tool call as Structued Outputs JSON with keys `parameters` and `requestBody`\"\"\""
   ]
  },
  {
   "cell_type": "markdown",
   "metadata": {},
   "source": [
    "### Configure Auth"
   ]
  },
  {
   "cell_type": "code",
   "execution_count": 6,
   "metadata": {},
   "outputs": [],
   "source": [
    "from agentsjson.core.models.auth import AuthType, ApiKeyAuthConfig\n",
    "auth = ApiKeyAuthConfig(type=AuthType.API_KEY, key_value=THEODDS_API_KEY)"
   ]
  },
  {
   "cell_type": "code",
   "execution_count": 7,
   "metadata": {},
   "outputs": [
    {
     "data": {
      "text/plain": [
       "[{'type': 'function',\n",
       "  'function': {'name': 'theodds_get_v4_sports_flow',\n",
       "   'description': \"Retrieve a list of available sports and tournaments from The Odds API. Include your API key and optionally specify the 'all' flag to include all sports.\",\n",
       "   'parameters': {'type': 'object',\n",
       "    'properties': {'parameters': {'type': 'object',\n",
       "      'properties': {'apiKey': {'type': 'string',\n",
       "        'description': 'Your API key for The Odds API.'},\n",
       "       'all': {'type': 'string',\n",
       "        'description': 'Optional flag to include all sports even those not currently in-season.'}},\n",
       "      'required': ['apiKey']}},\n",
       "    'required': ['parameters']},\n",
       "   'additionalProperties': False}},\n",
       " {'type': 'function',\n",
       "  'function': {'name': 'theodds_get_v4_sports_odds_flow',\n",
       "   'description': 'Retrieve sportsbook odds for a specified sport. Provide the sport key, API key, regions, and optional parameters for markets and formatting.',\n",
       "   'parameters': {'type': 'object',\n",
       "    'properties': {'parameters': {'type': 'object',\n",
       "      'properties': {'sport': {'type': 'string',\n",
       "        'description': \"Sport key (e.g., 'americanfootball_nfl').\"},\n",
       "       'apiKey': {'type': 'string',\n",
       "        'description': 'Your API key for The Odds API.'},\n",
       "       'regions': {'type': 'string',\n",
       "        'description': \"Comma-separated list of regions (e.g., 'us,uk').\"},\n",
       "       'markets': {'type': 'string',\n",
       "        'description': \"Odds market to return (e.g., 'h2h', 'spreads'). Defaults to 'h2h'.\"},\n",
       "       'dateFormat': {'type': 'string',\n",
       "        'description': \"Format for timestamps ('iso' or 'unix'). Defaults to 'iso'.\"},\n",
       "       'oddsFormat': {'type': 'string',\n",
       "        'description': \"Format of odds ('decimal' or 'american'). Defaults to 'decimal'.\"},\n",
       "       'eventIds': {'type': 'string',\n",
       "        'description': 'Optional comma-separated event IDs to filter results.'},\n",
       "       'bookmakers': {'type': 'string',\n",
       "        'description': 'Optional comma-separated list of bookmakers to include.'}},\n",
       "      'required': ['sport', 'apiKey', 'regions']}},\n",
       "    'required': ['parameters']},\n",
       "   'additionalProperties': False}},\n",
       " {'type': 'function',\n",
       "  'function': {'name': 'theodds_get_v4_sports_scores_flow',\n",
       "   'description': 'Retrieve live, upcoming, and recently completed sports event scores. Provide the sport key, API key, and optionally specify days from the past and event IDs.',\n",
       "   'parameters': {'type': 'object',\n",
       "    'properties': {'parameters': {'type': 'object',\n",
       "      'properties': {'sport': {'type': 'string',\n",
       "        'description': \"Sport key (e.g., 'americanfootball_nfl').\"},\n",
       "       'apiKey': {'type': 'string',\n",
       "        'description': 'Your API key for The Odds API.'},\n",
       "       'daysFrom': {'type': 'string',\n",
       "        'description': 'The number of days in the past to include completed events (1 to 3).'},\n",
       "       'dateFormat': {'type': 'string',\n",
       "        'description': \"Format for timestamps ('iso' or 'unix'). Defaults to 'iso'.\"},\n",
       "       'eventIds': {'type': 'string',\n",
       "        'description': 'Optional comma-separated event IDs to filter scores.'}},\n",
       "      'required': ['sport', 'apiKey']}},\n",
       "    'required': ['parameters']},\n",
       "   'additionalProperties': False}},\n",
       " {'type': 'function',\n",
       "  'function': {'name': 'theodds_get_v4_sports_participants_flow',\n",
       "   'description': 'Retrieve a list of participants (teams or individuals) for a given sport.',\n",
       "   'parameters': {'type': 'object',\n",
       "    'properties': {'parameters': {'type': 'object',\n",
       "      'properties': {'sport': {'type': 'string',\n",
       "        'description': \"Sport key (e.g., 'americanfootball_nfl').\"},\n",
       "       'apiKey': {'type': 'string',\n",
       "        'description': 'Your API key for The Odds API.'}},\n",
       "      'required': ['sport', 'apiKey']}},\n",
       "    'required': ['parameters']},\n",
       "   'additionalProperties': False}},\n",
       " {'type': 'function',\n",
       "  'function': {'name': 'theodds_get_v4_historical_sports_odds_flow',\n",
       "   'description': 'Retrieve historical sportsbook odds for a specified sport based on a snapshot timestamp. Include parameters such as regions, markets, and formats.',\n",
       "   'parameters': {'type': 'object',\n",
       "    'properties': {'parameters': {'type': 'object',\n",
       "      'properties': {'sport': {'type': 'string',\n",
       "        'description': \"Sport key (e.g., 'americanfootball_nfl').\"},\n",
       "       'apiKey': {'type': 'string',\n",
       "        'description': 'Your API key for The Odds API.'},\n",
       "       'regions': {'type': 'string',\n",
       "        'description': \"Comma-separated list of regions (e.g., 'us,uk').\"},\n",
       "       'markets': {'type': 'string',\n",
       "        'description': \"Odds market to return (default is 'h2h').\"},\n",
       "       'dateFormat': {'type': 'string',\n",
       "        'description': \"Timestamp format ('iso' or 'unix'). Defaults to 'iso'.\"},\n",
       "       'oddsFormat': {'type': 'string',\n",
       "        'description': \"Odds format ('decimal' or 'american'). Defaults to 'decimal'.\"},\n",
       "       'eventIds': {'type': 'string',\n",
       "        'description': 'Optional comma-separated event IDs to filter results.'},\n",
       "       'bookmakers': {'type': 'string',\n",
       "        'description': 'Optional comma-separated list of bookmakers.'},\n",
       "       'date': {'type': 'string',\n",
       "        'description': 'Snapshot timestamp in ISO8601 format for historical data.'}},\n",
       "      'required': ['sport', 'apiKey', 'regions', 'date']}},\n",
       "    'required': ['parameters']},\n",
       "   'additionalProperties': False}},\n",
       " {'type': 'function',\n",
       "  'function': {'name': 'theodds_get_v4_historical_sports_events_flow',\n",
       "   'description': 'Retrieve a list of sports events as they appeared at a specific historical snapshot. Optionally filter by commence time and event IDs.',\n",
       "   'parameters': {'type': 'object',\n",
       "    'properties': {'parameters': {'type': 'object',\n",
       "      'properties': {'sport': {'type': 'string',\n",
       "        'description': \"Sport key (e.g., 'americanfootball_nfl').\"},\n",
       "       'apiKey': {'type': 'string',\n",
       "        'description': 'Your API key for The Odds API.'},\n",
       "       'dateFormat': {'type': 'string',\n",
       "        'description': \"Timestamp format ('iso' or 'unix'), defaults to 'iso'.\"},\n",
       "       'eventIds': {'type': 'string',\n",
       "        'description': 'Optional comma-separated event IDs.'},\n",
       "       'commenceTimeFrom': {'type': 'string',\n",
       "        'description': 'Filter events commencing on or after this ISO8601 timestamp.'},\n",
       "       'commenceTimeTo': {'type': 'string',\n",
       "        'description': 'Filter events commencing on or before this ISO8601 timestamp.'},\n",
       "       'date': {'type': 'string',\n",
       "        'description': 'Snapshot timestamp in ISO8601 format for historical events.'}},\n",
       "      'required': ['sport', 'apiKey', 'date']}},\n",
       "    'required': ['parameters']},\n",
       "   'additionalProperties': False}},\n",
       " {'type': 'function',\n",
       "  'function': {'name': 'theodds_get_v4_historical_sports_events_odds_flow',\n",
       "   'description': 'Retrieve historical odds for a specific event using sport and event identifiers.',\n",
       "   'parameters': {'type': 'object',\n",
       "    'properties': {'parameters': {'type': 'object',\n",
       "      'properties': {'sport': {'type': 'string',\n",
       "        'description': \"Sport key (e.g., 'americanfootball_nfl').\"},\n",
       "       'eventId': {'type': 'string',\n",
       "        'description': 'Unique identifier for the event.'},\n",
       "       'apiKey': {'type': 'string',\n",
       "        'description': 'Your API key for The Odds API.'},\n",
       "       'regions': {'type': 'string',\n",
       "        'description': \"Comma-separated list of regions (e.g., 'us,uk').\"},\n",
       "       'markets': {'type': 'string',\n",
       "        'description': \"Odds market to return (default is 'h2h').\"},\n",
       "       'dateFormat': {'type': 'string',\n",
       "        'description': \"Format for timestamps ('iso' or 'unix'). Defaults to 'iso'.\"},\n",
       "       'oddsFormat': {'type': 'string',\n",
       "        'description': \"Odds format ('decimal' or 'american'). Defaults to 'decimal'.\"}},\n",
       "      'required': ['sport', 'eventId', 'apiKey', 'regions']}},\n",
       "    'required': ['parameters']},\n",
       "   'additionalProperties': False}},\n",
       " {'type': 'function',\n",
       "  'function': {'name': 'live_odds_scores_compound',\n",
       "   'description': 'Retrieve live sportsbook odds and current scores for a specified sport. This compound flow orchestrates calls to both the odds and scores endpoints.',\n",
       "   'parameters': {'type': 'object',\n",
       "    'properties': {'parameters': {'type': 'object',\n",
       "      'properties': {'sport': {'type': 'string',\n",
       "        'description': \"Sport key (e.g., 'americanfootball_nfl').\"},\n",
       "       'apiKey': {'type': 'string',\n",
       "        'description': 'Your API key for The Odds API.'},\n",
       "       'regions': {'type': 'string',\n",
       "        'description': \"Regions for odds data (e.g., 'us,uk').\"},\n",
       "       'markets': {'type': 'string',\n",
       "        'description': \"Odds market to return (default is 'h2h').\"},\n",
       "       'dateFormat': {'type': 'string',\n",
       "        'description': \"Timestamp format ('iso' or 'unix'). Defaults to 'iso'.\"},\n",
       "       'oddsFormat': {'type': 'string',\n",
       "        'description': \"Odds format ('decimal' or 'american'). Defaults to 'decimal'.\"},\n",
       "       'daysFrom': {'type': 'string',\n",
       "        'description': 'Number of days in the past for scores (1 to 3).'},\n",
       "       'eventIds': {'type': 'string',\n",
       "        'description': 'Optional event IDs to filter scores.'}},\n",
       "      'required': ['sport', 'apiKey', 'regions']}},\n",
       "    'required': ['parameters']},\n",
       "   'additionalProperties': False}},\n",
       " {'type': 'function',\n",
       "  'function': {'name': 'historical_odds_events_compound',\n",
       "   'description': 'Retrieve both historical sportsbook odds and event details for a given sport at a specific snapshot in time. This compound flow combines odds and event data.',\n",
       "   'parameters': {'type': 'object',\n",
       "    'properties': {'parameters': {'type': 'object',\n",
       "      'properties': {'sport': {'type': 'string',\n",
       "        'description': \"Sport key (e.g., 'americanfootball_nfl').\"},\n",
       "       'apiKey': {'type': 'string',\n",
       "        'description': 'Your API key for The Odds API.'},\n",
       "       'regions': {'type': 'string',\n",
       "        'description': \"Comma-separated list of regions (e.g., 'us,uk').\"},\n",
       "       'markets': {'type': 'string',\n",
       "        'description': \"Odds market to return (default is 'h2h').\"},\n",
       "       'dateFormat': {'type': 'string',\n",
       "        'description': \"Timestamp format ('iso' or 'unix'). Defaults to 'iso'.\"},\n",
       "       'oddsFormat': {'type': 'string',\n",
       "        'description': \"Odds format ('decimal' or 'american'). Defaults to 'decimal'.\"},\n",
       "       'date': {'type': 'string',\n",
       "        'description': 'Snapshot timestamp in ISO8601 format for historical data.'},\n",
       "       'commenceTimeFrom': {'type': 'string',\n",
       "        'description': 'Filter events commencing on or after this ISO8601 timestamp.'},\n",
       "       'commenceTimeTo': {'type': 'string',\n",
       "        'description': 'Filter events commencing on or before this ISO8601 timestamp.'},\n",
       "       'eventIds': {'type': 'string',\n",
       "        'description': 'Optional comma-separated event IDs to filter event details.'}},\n",
       "      'required': ['sport', 'apiKey', 'regions', 'date']}},\n",
       "    'required': ['parameters']},\n",
       "   'additionalProperties': False}}]"
      ]
     },
     "execution_count": 7,
     "metadata": {},
     "output_type": "execute_result"
    }
   ],
   "source": [
    "core.flows_tools(flows, format=ToolFormat.OPENAI)"
   ]
  },
  {
   "cell_type": "markdown",
   "metadata": {},
   "source": [
    "### Run the agent"
   ]
  },
  {
   "cell_type": "code",
   "execution_count": 8,
   "metadata": {},
   "outputs": [
    {
     "data": {
      "text/plain": [
       "{'theodds_get_v4_sports_flow': {'success': [{'key': 'americanfootball_ncaaf', 'group': 'American Football', 'title': 'NCAAF', 'description': 'US College Football', 'active': True, 'has_outrights': False}, {'key': 'aussierules_afl', 'group': 'Aussie Rules', 'title': 'AFL', 'description': 'Aussie Football', 'active': True, 'has_outrights': False}, {'key': 'baseball_mlb_world_series_winner', 'group': 'Baseball', 'title': 'MLB World Series Winner', 'description': 'World Series Winner 2025', 'active': True, 'has_outrights': True}, {'key': 'baseball_ncaa', 'group': 'Baseball', 'title': 'NCAA Baseball', 'description': 'US College Baseball', 'active': True, 'has_outrights': False}, {'key': 'basketball_euroleague', 'group': 'Basketball', 'title': 'Basketball Euroleague', 'description': 'Basketball Euroleague', 'active': True, 'has_outrights': False}, {'key': 'basketball_nba', 'group': 'Basketball', 'title': 'NBA', 'description': 'US Basketball', 'active': True, 'has_outrights': False}, {'key': 'basketball_nba_championship_winner', 'group': 'Basketball', 'title': 'NBA Championship Winner', 'description': 'Championship Winner 2024/2025', 'active': True, 'has_outrights': True}, {'key': 'basketball_ncaab', 'group': 'Basketball', 'title': 'NCAAB', 'description': 'US College Basketball', 'active': True, 'has_outrights': False}, {'key': 'basketball_ncaab_championship_winner', 'group': 'Basketball', 'title': 'NCAAB Championship Winner', 'description': 'US College Basketball Championship Winner', 'active': True, 'has_outrights': True}, {'key': 'basketball_wncaab', 'group': 'Basketball', 'title': 'WNCAAB', 'description': \"US Women's College Basketball\", 'active': True, 'has_outrights': False}, {'key': 'boxing_boxing', 'group': 'Boxing', 'title': 'Boxing', 'description': 'Boxing Bouts', 'active': True, 'has_outrights': False}, {'key': 'cricket_odi', 'group': 'Cricket', 'title': 'One Day Internationals', 'description': 'One Day Internationals', 'active': True, 'has_outrights': False}, {'key': 'golf_masters_tournament_winner', 'group': 'Golf', 'title': 'Masters Tournament Winner', 'description': '2025 Winner', 'active': True, 'has_outrights': True}, {'key': 'golf_pga_championship_winner', 'group': 'Golf', 'title': 'PGA Championship Winner', 'description': '2025 Winner', 'active': True, 'has_outrights': True}, {'key': 'golf_the_open_championship_winner', 'group': 'Golf', 'title': 'The Open Winner', 'description': '2025 Winner', 'active': True, 'has_outrights': True}, {'key': 'golf_us_open_winner', 'group': 'Golf', 'title': 'US Open Winner', 'description': '2025 Winner', 'active': True, 'has_outrights': True}, {'key': 'icehockey_ahl', 'group': 'Ice Hockey', 'title': 'AHL', 'description': 'American Hockey League', 'active': True, 'has_outrights': False}, {'key': 'icehockey_liiga', 'group': 'Ice Hockey', 'title': 'Liiga', 'description': 'Finnish SM League', 'active': True, 'has_outrights': False}, {'key': 'icehockey_mestis', 'group': 'Ice Hockey', 'title': 'Mestis', 'description': 'Finnish Mestis League', 'active': True, 'has_outrights': False}, {'key': 'icehockey_nhl', 'group': 'Ice Hockey', 'title': 'NHL', 'description': 'US Ice Hockey', 'active': True, 'has_outrights': False}, {'key': 'icehockey_nhl_championship_winner', 'group': 'Ice Hockey', 'title': 'NHL Championship Winner', 'description': 'Stanley Cup Winner 2024/2025', 'active': True, 'has_outrights': True}, {'key': 'icehockey_sweden_allsvenskan', 'group': 'Ice Hockey', 'title': 'HockeyAllsvenskan', 'description': 'Swedish Hockey Allsvenskan', 'active': True, 'has_outrights': False}, {'key': 'icehockey_sweden_hockey_league', 'group': 'Ice Hockey', 'title': 'SHL', 'description': 'Swedish Hockey League', 'active': True, 'has_outrights': False}, {'key': 'lacrosse_ncaa', 'group': 'Lacrosse', 'title': 'NCAA Lacrosse', 'description': 'College Lacrosse', 'active': True, 'has_outrights': False}, {'key': 'lacrosse_pll', 'group': 'Lacrosse', 'title': 'PLL', 'description': 'Premier Lacrosse League', 'active': True, 'has_outrights': False}, {'key': 'mma_mixed_martial_arts', 'group': 'Mixed Martial Arts', 'title': 'MMA', 'description': 'Mixed Martial Arts', 'active': True, 'has_outrights': False}, {'key': 'rugbyleague_nrl', 'group': 'Rugby League', 'title': 'NRL', 'description': 'Aussie Rugby League', 'active': True, 'has_outrights': False}, {'key': 'rugbyunion_six_nations', 'group': 'Rugby Union', 'title': 'Six Nations', 'description': 'Six Nations Championship', 'active': True, 'has_outrights': False}, {'key': 'soccer_argentina_primera_division', 'group': 'Soccer', 'title': 'Primera División - Argentina', 'description': 'Argentine Primera División', 'active': True, 'has_outrights': False}, {'key': 'soccer_australia_aleague', 'group': 'Soccer', 'title': 'A-League', 'description': 'Aussie Soccer', 'active': True, 'has_outrights': False}, {'key': 'soccer_austria_bundesliga', 'group': 'Soccer', 'title': 'Austrian Football Bundesliga', 'description': 'Austrian Soccer', 'active': True, 'has_outrights': False}, {'key': 'soccer_belgium_first_div', 'group': 'Soccer', 'title': 'Belgium First Div', 'description': 'Belgian First Division A', 'active': True, 'has_outrights': False}, {'key': 'soccer_chile_campeonato', 'group': 'Soccer', 'title': 'Primera División - Chile', 'description': 'Campeonato Chileno', 'active': True, 'has_outrights': False}, {'key': 'soccer_china_superleague', 'group': 'Soccer', 'title': 'Super League - China', 'description': 'Chinese Soccer', 'active': True, 'has_outrights': False}, {'key': 'soccer_conmebol_copa_libertadores', 'group': 'Soccer', 'title': 'Copa Libertadores', 'description': 'CONMEBOL Copa Libertadores', 'active': True, 'has_outrights': False}, {'key': 'soccer_denmark_superliga', 'group': 'Soccer', 'title': 'Denmark Superliga', 'description': 'Danish Soccer', 'active': True, 'has_outrights': False}, {'key': 'soccer_efl_champ', 'group': 'Soccer', 'title': 'Championship', 'description': 'EFL Championship', 'active': True, 'has_outrights': False}, {'key': 'soccer_england_efl_cup', 'group': 'Soccer', 'title': 'EFL Cup', 'description': 'League Cup', 'active': True, 'has_outrights': False}, {'key': 'soccer_england_league1', 'group': 'Soccer', 'title': 'League 1', 'description': 'EFL League 1', 'active': True, 'has_outrights': False}, {'key': 'soccer_england_league2', 'group': 'Soccer', 'title': 'League 2', 'description': 'EFL League 2 ', 'active': True, 'has_outrights': False}, {'key': 'soccer_epl', 'group': 'Soccer', 'title': 'EPL', 'description': 'English Premier League', 'active': True, 'has_outrights': False}, {'key': 'soccer_fifa_world_cup_winner', 'group': 'Soccer', 'title': 'FIFA World Cup Winner', 'description': 'FIFA World Cup Winner 2026', 'active': True, 'has_outrights': True}, {'key': 'soccer_france_ligue_one', 'group': 'Soccer', 'title': 'Ligue 1 - France', 'description': 'French Soccer', 'active': True, 'has_outrights': False}, {'key': 'soccer_france_ligue_two', 'group': 'Soccer', 'title': 'Ligue 2 - France', 'description': 'French Soccer', 'active': True, 'has_outrights': False}, {'key': 'soccer_germany_bundesliga', 'group': 'Soccer', 'title': 'Bundesliga - Germany', 'description': 'German Soccer', 'active': True, 'has_outrights': False}, {'key': 'soccer_germany_bundesliga2', 'group': 'Soccer', 'title': 'Bundesliga 2 - Germany', 'description': 'German Soccer', 'active': True, 'has_outrights': False}, {'key': 'soccer_germany_liga3', 'group': 'Soccer', 'title': '3. Liga - Germany', 'description': 'German Soccer', 'active': True, 'has_outrights': False}, {'key': 'soccer_greece_super_league', 'group': 'Soccer', 'title': 'Super League - Greece', 'description': 'Greek Soccer', 'active': True, 'has_outrights': False}, {'key': 'soccer_italy_serie_a', 'group': 'Soccer', 'title': 'Serie A - Italy', 'description': 'Italian Soccer', 'active': True, 'has_outrights': False}, {'key': 'soccer_italy_serie_b', 'group': 'Soccer', 'title': 'Serie B - Italy', 'description': 'Italian Soccer', 'active': True, 'has_outrights': False}, {'key': 'soccer_japan_j_league', 'group': 'Soccer', 'title': 'J League', 'description': 'Japan Soccer League', 'active': True, 'has_outrights': False}, {'key': 'soccer_korea_kleague1', 'group': 'Soccer', 'title': 'K League 1', 'description': 'Korean Soccer', 'active': True, 'has_outrights': False}, {'key': 'soccer_league_of_ireland', 'group': 'Soccer', 'title': 'League of Ireland', 'description': 'Airtricity League Premier Division', 'active': True, 'has_outrights': False}, {'key': 'soccer_mexico_ligamx', 'group': 'Soccer', 'title': 'Liga MX', 'description': 'Mexican Soccer', 'active': True, 'has_outrights': False}, {'key': 'soccer_netherlands_eredivisie', 'group': 'Soccer', 'title': 'Dutch Eredivisie', 'description': 'Dutch Soccer', 'active': True, 'has_outrights': False}, {'key': 'soccer_norway_eliteserien', 'group': 'Soccer', 'title': 'Eliteserien - Norway', 'description': 'Norwegian Soccer', 'active': True, 'has_outrights': False}, {'key': 'soccer_poland_ekstraklasa', 'group': 'Soccer', 'title': 'Ekstraklasa - Poland', 'description': 'Polish Soccer', 'active': True, 'has_outrights': False}, {'key': 'soccer_portugal_primeira_liga', 'group': 'Soccer', 'title': 'Primeira Liga - Portugal', 'description': 'Portugese Soccer', 'active': True, 'has_outrights': False}, {'key': 'soccer_spain_la_liga', 'group': 'Soccer', 'title': 'La Liga - Spain', 'description': 'Spanish Soccer', 'active': True, 'has_outrights': False}, {'key': 'soccer_spain_segunda_division', 'group': 'Soccer', 'title': 'La Liga 2 - Spain', 'description': 'Spanish Soccer', 'active': True, 'has_outrights': False}, {'key': 'soccer_spl', 'group': 'Soccer', 'title': 'Premiership - Scotland', 'description': 'Scottish Premiership', 'active': True, 'has_outrights': False}, {'key': 'soccer_sweden_allsvenskan', 'group': 'Soccer', 'title': 'Allsvenskan - Sweden', 'description': 'Swedish Soccer', 'active': True, 'has_outrights': False}, {'key': 'soccer_switzerland_superleague', 'group': 'Soccer', 'title': 'Swiss Superleague', 'description': 'Swiss Soccer', 'active': True, 'has_outrights': False}, {'key': 'soccer_turkey_super_league', 'group': 'Soccer', 'title': 'Turkey Super League', 'description': 'Turkish Soccer', 'active': True, 'has_outrights': False}, {'key': 'soccer_uefa_champs_league', 'group': 'Soccer', 'title': 'UEFA Champions League', 'description': 'European Champions League', 'active': True, 'has_outrights': False}, {'key': 'soccer_uefa_europa_conference_league', 'group': 'Soccer', 'title': 'UEFA Europa Conference League', 'description': 'UEFA Europa Conference League', 'active': True, 'has_outrights': False}, {'key': 'soccer_uefa_europa_league', 'group': 'Soccer', 'title': 'UEFA Europa League', 'description': 'European Europa League', 'active': True, 'has_outrights': False}, {'key': 'soccer_usa_mls', 'group': 'Soccer', 'title': 'MLS', 'description': 'Major League Soccer', 'active': True, 'has_outrights': False}, {'key': 'tennis_atp_qatar_open', 'group': 'Tennis', 'title': 'ATP Qatar Open', 'description': \"Men's Singles\", 'active': True, 'has_outrights': False}, {'key': 'tennis_wta_dubai', 'group': 'Tennis', 'title': 'WTA Dubai Championships', 'description': \"Women's Singles\", 'active': True, 'has_outrights': False}]}}"
      ]
     },
     "execution_count": 8,
     "metadata": {},
     "output_type": "execute_result"
    }
   ],
   "source": [
    "from openai import OpenAI\n",
    "from agentsjson.core.executor import execute_flows\n",
    "client = OpenAI(api_key=OPENAI_API_KEY)\n",
    "\n",
    "response = client.chat.completions.create(\n",
    "    model=\"gpt-4o\",\n",
    "    messages=[\n",
    "        {\"role\": \"system\", \"content\": system_prompt},\n",
    "        {\"role\": \"user\", \"content\": query}\n",
    "    ],\n",
    "    tools=core.flows_tools(flows, format=ToolFormat.OPENAI),\n",
    "    temperature=0\n",
    ")\n",
    "\n",
    "response = execute_flows(response, format=core.ToolFormat.OPENAI, bundle=data, flows=flows, auth=auth)\n",
    "\n",
    "response"
   ]
  },
  {
   "cell_type": "code",
   "execution_count": null,
   "metadata": {},
   "outputs": [],
   "source": []
  }
 ],
 "metadata": {
  "kernelspec": {
   "display_name": ".venv",
   "language": "python",
   "name": "python3"
  },
  "language_info": {
   "codemirror_mode": {
    "name": "ipython",
    "version": 3
   },
   "file_extension": ".py",
   "mimetype": "text/x-python",
   "name": "python",
   "nbconvert_exporter": "python",
   "pygments_lexer": "ipython3",
   "version": "3.13.1"
  }
 },
 "nbformat": 4,
 "nbformat_minor": 2
}
